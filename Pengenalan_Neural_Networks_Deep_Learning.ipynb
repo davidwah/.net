{
  "nbformat": 4,
  "nbformat_minor": 0,
  "metadata": {
    "colab": {
      "name": "Pengenalan-Neural-Networks-Deep-Learning.ipynb",
      "provenance": [],
      "collapsed_sections": [],
      "include_colab_link": true
    },
    "kernelspec": {
      "name": "python3",
      "display_name": "Python 3"
    },
    "accelerator": "GPU",
    "widgets": {
      "application/vnd.jupyter.widget-state+json": {
        "3af75b34938d440ab74ac12eb2a3495f": {
          "model_module": "@jupyter-widgets/controls",
          "model_name": "HBoxModel",
          "state": {
            "_view_name": "HBoxView",
            "_dom_classes": [],
            "_model_name": "HBoxModel",
            "_view_module": "@jupyter-widgets/controls",
            "_model_module_version": "1.5.0",
            "_view_count": null,
            "_view_module_version": "1.5.0",
            "box_style": "",
            "layout": "IPY_MODEL_0124d391128b4b41adf1b6e510a826bb",
            "_model_module": "@jupyter-widgets/controls",
            "children": [
              "IPY_MODEL_d929956e8e7c42c3b82da78e96a63d3c",
              "IPY_MODEL_4e471201243940cd96e04fc3e950241f"
            ]
          }
        },
        "0124d391128b4b41adf1b6e510a826bb": {
          "model_module": "@jupyter-widgets/base",
          "model_name": "LayoutModel",
          "state": {
            "_view_name": "LayoutView",
            "grid_template_rows": null,
            "right": null,
            "justify_content": null,
            "_view_module": "@jupyter-widgets/base",
            "overflow": null,
            "_model_module_version": "1.2.0",
            "_view_count": null,
            "flex_flow": null,
            "width": null,
            "min_width": null,
            "border": null,
            "align_items": null,
            "bottom": null,
            "_model_module": "@jupyter-widgets/base",
            "top": null,
            "grid_column": null,
            "overflow_y": null,
            "overflow_x": null,
            "grid_auto_flow": null,
            "grid_area": null,
            "grid_template_columns": null,
            "flex": null,
            "_model_name": "LayoutModel",
            "justify_items": null,
            "grid_row": null,
            "max_height": null,
            "align_content": null,
            "visibility": null,
            "align_self": null,
            "height": null,
            "min_height": null,
            "padding": null,
            "grid_auto_rows": null,
            "grid_gap": null,
            "max_width": null,
            "order": null,
            "_view_module_version": "1.2.0",
            "grid_template_areas": null,
            "object_position": null,
            "object_fit": null,
            "grid_auto_columns": null,
            "margin": null,
            "display": null,
            "left": null
          }
        },
        "d929956e8e7c42c3b82da78e96a63d3c": {
          "model_module": "@jupyter-widgets/controls",
          "model_name": "IntProgressModel",
          "state": {
            "_view_name": "ProgressView",
            "style": "IPY_MODEL_8bf3de71c70247d08dedb7f82a6af954",
            "_dom_classes": [],
            "description": "",
            "_model_name": "IntProgressModel",
            "bar_style": "info",
            "max": 1,
            "_view_module": "@jupyter-widgets/controls",
            "_model_module_version": "1.5.0",
            "value": 1,
            "_view_count": null,
            "_view_module_version": "1.5.0",
            "orientation": "horizontal",
            "min": 0,
            "description_tooltip": null,
            "_model_module": "@jupyter-widgets/controls",
            "layout": "IPY_MODEL_b242f55e9f674a609d65706cff46e9f1"
          }
        },
        "4e471201243940cd96e04fc3e950241f": {
          "model_module": "@jupyter-widgets/controls",
          "model_name": "HTMLModel",
          "state": {
            "_view_name": "HTMLView",
            "style": "IPY_MODEL_8878aa2e395141a3b563f8da1c3b369e",
            "_dom_classes": [],
            "description": "",
            "_model_name": "HTMLModel",
            "placeholder": "​",
            "_view_module": "@jupyter-widgets/controls",
            "_model_module_version": "1.5.0",
            "value": " 26427392/? [00:20&lt;00:00, 8831122.20it/s]",
            "_view_count": null,
            "_view_module_version": "1.5.0",
            "description_tooltip": null,
            "_model_module": "@jupyter-widgets/controls",
            "layout": "IPY_MODEL_f58e826160134f36bf17e287462df4d4"
          }
        },
        "8bf3de71c70247d08dedb7f82a6af954": {
          "model_module": "@jupyter-widgets/controls",
          "model_name": "ProgressStyleModel",
          "state": {
            "_view_name": "StyleView",
            "_model_name": "ProgressStyleModel",
            "description_width": "initial",
            "_view_module": "@jupyter-widgets/base",
            "_model_module_version": "1.5.0",
            "_view_count": null,
            "_view_module_version": "1.2.0",
            "bar_color": null,
            "_model_module": "@jupyter-widgets/controls"
          }
        },
        "b242f55e9f674a609d65706cff46e9f1": {
          "model_module": "@jupyter-widgets/base",
          "model_name": "LayoutModel",
          "state": {
            "_view_name": "LayoutView",
            "grid_template_rows": null,
            "right": null,
            "justify_content": null,
            "_view_module": "@jupyter-widgets/base",
            "overflow": null,
            "_model_module_version": "1.2.0",
            "_view_count": null,
            "flex_flow": null,
            "width": null,
            "min_width": null,
            "border": null,
            "align_items": null,
            "bottom": null,
            "_model_module": "@jupyter-widgets/base",
            "top": null,
            "grid_column": null,
            "overflow_y": null,
            "overflow_x": null,
            "grid_auto_flow": null,
            "grid_area": null,
            "grid_template_columns": null,
            "flex": null,
            "_model_name": "LayoutModel",
            "justify_items": null,
            "grid_row": null,
            "max_height": null,
            "align_content": null,
            "visibility": null,
            "align_self": null,
            "height": null,
            "min_height": null,
            "padding": null,
            "grid_auto_rows": null,
            "grid_gap": null,
            "max_width": null,
            "order": null,
            "_view_module_version": "1.2.0",
            "grid_template_areas": null,
            "object_position": null,
            "object_fit": null,
            "grid_auto_columns": null,
            "margin": null,
            "display": null,
            "left": null
          }
        },
        "8878aa2e395141a3b563f8da1c3b369e": {
          "model_module": "@jupyter-widgets/controls",
          "model_name": "DescriptionStyleModel",
          "state": {
            "_view_name": "StyleView",
            "_model_name": "DescriptionStyleModel",
            "description_width": "",
            "_view_module": "@jupyter-widgets/base",
            "_model_module_version": "1.5.0",
            "_view_count": null,
            "_view_module_version": "1.2.0",
            "_model_module": "@jupyter-widgets/controls"
          }
        },
        "f58e826160134f36bf17e287462df4d4": {
          "model_module": "@jupyter-widgets/base",
          "model_name": "LayoutModel",
          "state": {
            "_view_name": "LayoutView",
            "grid_template_rows": null,
            "right": null,
            "justify_content": null,
            "_view_module": "@jupyter-widgets/base",
            "overflow": null,
            "_model_module_version": "1.2.0",
            "_view_count": null,
            "flex_flow": null,
            "width": null,
            "min_width": null,
            "border": null,
            "align_items": null,
            "bottom": null,
            "_model_module": "@jupyter-widgets/base",
            "top": null,
            "grid_column": null,
            "overflow_y": null,
            "overflow_x": null,
            "grid_auto_flow": null,
            "grid_area": null,
            "grid_template_columns": null,
            "flex": null,
            "_model_name": "LayoutModel",
            "justify_items": null,
            "grid_row": null,
            "max_height": null,
            "align_content": null,
            "visibility": null,
            "align_self": null,
            "height": null,
            "min_height": null,
            "padding": null,
            "grid_auto_rows": null,
            "grid_gap": null,
            "max_width": null,
            "order": null,
            "_view_module_version": "1.2.0",
            "grid_template_areas": null,
            "object_position": null,
            "object_fit": null,
            "grid_auto_columns": null,
            "margin": null,
            "display": null,
            "left": null
          }
        },
        "32b2f765ce0d4be1a097586e7bcb659e": {
          "model_module": "@jupyter-widgets/controls",
          "model_name": "HBoxModel",
          "state": {
            "_view_name": "HBoxView",
            "_dom_classes": [],
            "_model_name": "HBoxModel",
            "_view_module": "@jupyter-widgets/controls",
            "_model_module_version": "1.5.0",
            "_view_count": null,
            "_view_module_version": "1.5.0",
            "box_style": "",
            "layout": "IPY_MODEL_6d402d927eb04c108d1ffb8820dbdd65",
            "_model_module": "@jupyter-widgets/controls",
            "children": [
              "IPY_MODEL_d2c3d3fa0fb84d02af8b6059a77b6146",
              "IPY_MODEL_93ec4781267c48dda9b80203e2838c95"
            ]
          }
        },
        "6d402d927eb04c108d1ffb8820dbdd65": {
          "model_module": "@jupyter-widgets/base",
          "model_name": "LayoutModel",
          "state": {
            "_view_name": "LayoutView",
            "grid_template_rows": null,
            "right": null,
            "justify_content": null,
            "_view_module": "@jupyter-widgets/base",
            "overflow": null,
            "_model_module_version": "1.2.0",
            "_view_count": null,
            "flex_flow": null,
            "width": null,
            "min_width": null,
            "border": null,
            "align_items": null,
            "bottom": null,
            "_model_module": "@jupyter-widgets/base",
            "top": null,
            "grid_column": null,
            "overflow_y": null,
            "overflow_x": null,
            "grid_auto_flow": null,
            "grid_area": null,
            "grid_template_columns": null,
            "flex": null,
            "_model_name": "LayoutModel",
            "justify_items": null,
            "grid_row": null,
            "max_height": null,
            "align_content": null,
            "visibility": null,
            "align_self": null,
            "height": null,
            "min_height": null,
            "padding": null,
            "grid_auto_rows": null,
            "grid_gap": null,
            "max_width": null,
            "order": null,
            "_view_module_version": "1.2.0",
            "grid_template_areas": null,
            "object_position": null,
            "object_fit": null,
            "grid_auto_columns": null,
            "margin": null,
            "display": null,
            "left": null
          }
        },
        "d2c3d3fa0fb84d02af8b6059a77b6146": {
          "model_module": "@jupyter-widgets/controls",
          "model_name": "IntProgressModel",
          "state": {
            "_view_name": "ProgressView",
            "style": "IPY_MODEL_36d977010cd14d129324b00478d8ffda",
            "_dom_classes": [],
            "description": "",
            "_model_name": "IntProgressModel",
            "bar_style": "success",
            "max": 1,
            "_view_module": "@jupyter-widgets/controls",
            "_model_module_version": "1.5.0",
            "value": 1,
            "_view_count": null,
            "_view_module_version": "1.5.0",
            "orientation": "horizontal",
            "min": 0,
            "description_tooltip": null,
            "_model_module": "@jupyter-widgets/controls",
            "layout": "IPY_MODEL_bd3a05aacef046afb4cbc03d124ebc83"
          }
        },
        "93ec4781267c48dda9b80203e2838c95": {
          "model_module": "@jupyter-widgets/controls",
          "model_name": "HTMLModel",
          "state": {
            "_view_name": "HTMLView",
            "style": "IPY_MODEL_ae664d39e00443f1bd3e378fe66ac55b",
            "_dom_classes": [],
            "description": "",
            "_model_name": "HTMLModel",
            "placeholder": "​",
            "_view_module": "@jupyter-widgets/controls",
            "_model_module_version": "1.5.0",
            "value": " 32768/? [00:01&lt;00:00, 27271.67it/s]",
            "_view_count": null,
            "_view_module_version": "1.5.0",
            "description_tooltip": null,
            "_model_module": "@jupyter-widgets/controls",
            "layout": "IPY_MODEL_46ae701fb5bf4ac8adfd519c01d67b9f"
          }
        },
        "36d977010cd14d129324b00478d8ffda": {
          "model_module": "@jupyter-widgets/controls",
          "model_name": "ProgressStyleModel",
          "state": {
            "_view_name": "StyleView",
            "_model_name": "ProgressStyleModel",
            "description_width": "initial",
            "_view_module": "@jupyter-widgets/base",
            "_model_module_version": "1.5.0",
            "_view_count": null,
            "_view_module_version": "1.2.0",
            "bar_color": null,
            "_model_module": "@jupyter-widgets/controls"
          }
        },
        "bd3a05aacef046afb4cbc03d124ebc83": {
          "model_module": "@jupyter-widgets/base",
          "model_name": "LayoutModel",
          "state": {
            "_view_name": "LayoutView",
            "grid_template_rows": null,
            "right": null,
            "justify_content": null,
            "_view_module": "@jupyter-widgets/base",
            "overflow": null,
            "_model_module_version": "1.2.0",
            "_view_count": null,
            "flex_flow": null,
            "width": null,
            "min_width": null,
            "border": null,
            "align_items": null,
            "bottom": null,
            "_model_module": "@jupyter-widgets/base",
            "top": null,
            "grid_column": null,
            "overflow_y": null,
            "overflow_x": null,
            "grid_auto_flow": null,
            "grid_area": null,
            "grid_template_columns": null,
            "flex": null,
            "_model_name": "LayoutModel",
            "justify_items": null,
            "grid_row": null,
            "max_height": null,
            "align_content": null,
            "visibility": null,
            "align_self": null,
            "height": null,
            "min_height": null,
            "padding": null,
            "grid_auto_rows": null,
            "grid_gap": null,
            "max_width": null,
            "order": null,
            "_view_module_version": "1.2.0",
            "grid_template_areas": null,
            "object_position": null,
            "object_fit": null,
            "grid_auto_columns": null,
            "margin": null,
            "display": null,
            "left": null
          }
        },
        "ae664d39e00443f1bd3e378fe66ac55b": {
          "model_module": "@jupyter-widgets/controls",
          "model_name": "DescriptionStyleModel",
          "state": {
            "_view_name": "StyleView",
            "_model_name": "DescriptionStyleModel",
            "description_width": "",
            "_view_module": "@jupyter-widgets/base",
            "_model_module_version": "1.5.0",
            "_view_count": null,
            "_view_module_version": "1.2.0",
            "_model_module": "@jupyter-widgets/controls"
          }
        },
        "46ae701fb5bf4ac8adfd519c01d67b9f": {
          "model_module": "@jupyter-widgets/base",
          "model_name": "LayoutModel",
          "state": {
            "_view_name": "LayoutView",
            "grid_template_rows": null,
            "right": null,
            "justify_content": null,
            "_view_module": "@jupyter-widgets/base",
            "overflow": null,
            "_model_module_version": "1.2.0",
            "_view_count": null,
            "flex_flow": null,
            "width": null,
            "min_width": null,
            "border": null,
            "align_items": null,
            "bottom": null,
            "_model_module": "@jupyter-widgets/base",
            "top": null,
            "grid_column": null,
            "overflow_y": null,
            "overflow_x": null,
            "grid_auto_flow": null,
            "grid_area": null,
            "grid_template_columns": null,
            "flex": null,
            "_model_name": "LayoutModel",
            "justify_items": null,
            "grid_row": null,
            "max_height": null,
            "align_content": null,
            "visibility": null,
            "align_self": null,
            "height": null,
            "min_height": null,
            "padding": null,
            "grid_auto_rows": null,
            "grid_gap": null,
            "max_width": null,
            "order": null,
            "_view_module_version": "1.2.0",
            "grid_template_areas": null,
            "object_position": null,
            "object_fit": null,
            "grid_auto_columns": null,
            "margin": null,
            "display": null,
            "left": null
          }
        },
        "cb358d3e80ef48afa1b392aadbcaf629": {
          "model_module": "@jupyter-widgets/controls",
          "model_name": "HBoxModel",
          "state": {
            "_view_name": "HBoxView",
            "_dom_classes": [],
            "_model_name": "HBoxModel",
            "_view_module": "@jupyter-widgets/controls",
            "_model_module_version": "1.5.0",
            "_view_count": null,
            "_view_module_version": "1.5.0",
            "box_style": "",
            "layout": "IPY_MODEL_560d6d23815d4a4eada0c8a5efd03487",
            "_model_module": "@jupyter-widgets/controls",
            "children": [
              "IPY_MODEL_ca766e8105574e35899d5e470ea17031",
              "IPY_MODEL_4bfb1af376e245c6a1002459971f9aab"
            ]
          }
        },
        "560d6d23815d4a4eada0c8a5efd03487": {
          "model_module": "@jupyter-widgets/base",
          "model_name": "LayoutModel",
          "state": {
            "_view_name": "LayoutView",
            "grid_template_rows": null,
            "right": null,
            "justify_content": null,
            "_view_module": "@jupyter-widgets/base",
            "overflow": null,
            "_model_module_version": "1.2.0",
            "_view_count": null,
            "flex_flow": null,
            "width": null,
            "min_width": null,
            "border": null,
            "align_items": null,
            "bottom": null,
            "_model_module": "@jupyter-widgets/base",
            "top": null,
            "grid_column": null,
            "overflow_y": null,
            "overflow_x": null,
            "grid_auto_flow": null,
            "grid_area": null,
            "grid_template_columns": null,
            "flex": null,
            "_model_name": "LayoutModel",
            "justify_items": null,
            "grid_row": null,
            "max_height": null,
            "align_content": null,
            "visibility": null,
            "align_self": null,
            "height": null,
            "min_height": null,
            "padding": null,
            "grid_auto_rows": null,
            "grid_gap": null,
            "max_width": null,
            "order": null,
            "_view_module_version": "1.2.0",
            "grid_template_areas": null,
            "object_position": null,
            "object_fit": null,
            "grid_auto_columns": null,
            "margin": null,
            "display": null,
            "left": null
          }
        },
        "ca766e8105574e35899d5e470ea17031": {
          "model_module": "@jupyter-widgets/controls",
          "model_name": "IntProgressModel",
          "state": {
            "_view_name": "ProgressView",
            "style": "IPY_MODEL_c501d95fbafb4f4e8528d1c57242a0ef",
            "_dom_classes": [],
            "description": "",
            "_model_name": "IntProgressModel",
            "bar_style": "info",
            "max": 1,
            "_view_module": "@jupyter-widgets/controls",
            "_model_module_version": "1.5.0",
            "value": 1,
            "_view_count": null,
            "_view_module_version": "1.5.0",
            "orientation": "horizontal",
            "min": 0,
            "description_tooltip": null,
            "_model_module": "@jupyter-widgets/controls",
            "layout": "IPY_MODEL_6a7ac320fb8c4747a9b06820187429f2"
          }
        },
        "4bfb1af376e245c6a1002459971f9aab": {
          "model_module": "@jupyter-widgets/controls",
          "model_name": "HTMLModel",
          "state": {
            "_view_name": "HTMLView",
            "style": "IPY_MODEL_6f25f6dae7454c8fb5a71a990eda4bcc",
            "_dom_classes": [],
            "description": "",
            "_model_name": "HTMLModel",
            "placeholder": "​",
            "_view_module": "@jupyter-widgets/controls",
            "_model_module_version": "1.5.0",
            "value": " 4423680/? [00:17&lt;00:00, 1054447.55it/s]",
            "_view_count": null,
            "_view_module_version": "1.5.0",
            "description_tooltip": null,
            "_model_module": "@jupyter-widgets/controls",
            "layout": "IPY_MODEL_096947b4d0074ab9a02d897f02ae4226"
          }
        },
        "c501d95fbafb4f4e8528d1c57242a0ef": {
          "model_module": "@jupyter-widgets/controls",
          "model_name": "ProgressStyleModel",
          "state": {
            "_view_name": "StyleView",
            "_model_name": "ProgressStyleModel",
            "description_width": "initial",
            "_view_module": "@jupyter-widgets/base",
            "_model_module_version": "1.5.0",
            "_view_count": null,
            "_view_module_version": "1.2.0",
            "bar_color": null,
            "_model_module": "@jupyter-widgets/controls"
          }
        },
        "6a7ac320fb8c4747a9b06820187429f2": {
          "model_module": "@jupyter-widgets/base",
          "model_name": "LayoutModel",
          "state": {
            "_view_name": "LayoutView",
            "grid_template_rows": null,
            "right": null,
            "justify_content": null,
            "_view_module": "@jupyter-widgets/base",
            "overflow": null,
            "_model_module_version": "1.2.0",
            "_view_count": null,
            "flex_flow": null,
            "width": null,
            "min_width": null,
            "border": null,
            "align_items": null,
            "bottom": null,
            "_model_module": "@jupyter-widgets/base",
            "top": null,
            "grid_column": null,
            "overflow_y": null,
            "overflow_x": null,
            "grid_auto_flow": null,
            "grid_area": null,
            "grid_template_columns": null,
            "flex": null,
            "_model_name": "LayoutModel",
            "justify_items": null,
            "grid_row": null,
            "max_height": null,
            "align_content": null,
            "visibility": null,
            "align_self": null,
            "height": null,
            "min_height": null,
            "padding": null,
            "grid_auto_rows": null,
            "grid_gap": null,
            "max_width": null,
            "order": null,
            "_view_module_version": "1.2.0",
            "grid_template_areas": null,
            "object_position": null,
            "object_fit": null,
            "grid_auto_columns": null,
            "margin": null,
            "display": null,
            "left": null
          }
        },
        "6f25f6dae7454c8fb5a71a990eda4bcc": {
          "model_module": "@jupyter-widgets/controls",
          "model_name": "DescriptionStyleModel",
          "state": {
            "_view_name": "StyleView",
            "_model_name": "DescriptionStyleModel",
            "description_width": "",
            "_view_module": "@jupyter-widgets/base",
            "_model_module_version": "1.5.0",
            "_view_count": null,
            "_view_module_version": "1.2.0",
            "_model_module": "@jupyter-widgets/controls"
          }
        },
        "096947b4d0074ab9a02d897f02ae4226": {
          "model_module": "@jupyter-widgets/base",
          "model_name": "LayoutModel",
          "state": {
            "_view_name": "LayoutView",
            "grid_template_rows": null,
            "right": null,
            "justify_content": null,
            "_view_module": "@jupyter-widgets/base",
            "overflow": null,
            "_model_module_version": "1.2.0",
            "_view_count": null,
            "flex_flow": null,
            "width": null,
            "min_width": null,
            "border": null,
            "align_items": null,
            "bottom": null,
            "_model_module": "@jupyter-widgets/base",
            "top": null,
            "grid_column": null,
            "overflow_y": null,
            "overflow_x": null,
            "grid_auto_flow": null,
            "grid_area": null,
            "grid_template_columns": null,
            "flex": null,
            "_model_name": "LayoutModel",
            "justify_items": null,
            "grid_row": null,
            "max_height": null,
            "align_content": null,
            "visibility": null,
            "align_self": null,
            "height": null,
            "min_height": null,
            "padding": null,
            "grid_auto_rows": null,
            "grid_gap": null,
            "max_width": null,
            "order": null,
            "_view_module_version": "1.2.0",
            "grid_template_areas": null,
            "object_position": null,
            "object_fit": null,
            "grid_auto_columns": null,
            "margin": null,
            "display": null,
            "left": null
          }
        },
        "398a03e72a2441bc8406c80821bd2fe1": {
          "model_module": "@jupyter-widgets/controls",
          "model_name": "HBoxModel",
          "state": {
            "_view_name": "HBoxView",
            "_dom_classes": [],
            "_model_name": "HBoxModel",
            "_view_module": "@jupyter-widgets/controls",
            "_model_module_version": "1.5.0",
            "_view_count": null,
            "_view_module_version": "1.5.0",
            "box_style": "",
            "layout": "IPY_MODEL_355958a175e343c59170a66f1c8a258e",
            "_model_module": "@jupyter-widgets/controls",
            "children": [
              "IPY_MODEL_445c3b482a1e437e9da80a373922eec0",
              "IPY_MODEL_02a1773326e94ac8b959f8742032f9ba"
            ]
          }
        },
        "355958a175e343c59170a66f1c8a258e": {
          "model_module": "@jupyter-widgets/base",
          "model_name": "LayoutModel",
          "state": {
            "_view_name": "LayoutView",
            "grid_template_rows": null,
            "right": null,
            "justify_content": null,
            "_view_module": "@jupyter-widgets/base",
            "overflow": null,
            "_model_module_version": "1.2.0",
            "_view_count": null,
            "flex_flow": null,
            "width": null,
            "min_width": null,
            "border": null,
            "align_items": null,
            "bottom": null,
            "_model_module": "@jupyter-widgets/base",
            "top": null,
            "grid_column": null,
            "overflow_y": null,
            "overflow_x": null,
            "grid_auto_flow": null,
            "grid_area": null,
            "grid_template_columns": null,
            "flex": null,
            "_model_name": "LayoutModel",
            "justify_items": null,
            "grid_row": null,
            "max_height": null,
            "align_content": null,
            "visibility": null,
            "align_self": null,
            "height": null,
            "min_height": null,
            "padding": null,
            "grid_auto_rows": null,
            "grid_gap": null,
            "max_width": null,
            "order": null,
            "_view_module_version": "1.2.0",
            "grid_template_areas": null,
            "object_position": null,
            "object_fit": null,
            "grid_auto_columns": null,
            "margin": null,
            "display": null,
            "left": null
          }
        },
        "445c3b482a1e437e9da80a373922eec0": {
          "model_module": "@jupyter-widgets/controls",
          "model_name": "IntProgressModel",
          "state": {
            "_view_name": "ProgressView",
            "style": "IPY_MODEL_9d1e45169b0b4446b1fa8d5442a4521f",
            "_dom_classes": [],
            "description": "  0%",
            "_model_name": "IntProgressModel",
            "bar_style": "info",
            "max": 1,
            "_view_module": "@jupyter-widgets/controls",
            "_model_module_version": "1.5.0",
            "value": 0,
            "_view_count": null,
            "_view_module_version": "1.5.0",
            "orientation": "horizontal",
            "min": 0,
            "description_tooltip": null,
            "_model_module": "@jupyter-widgets/controls",
            "layout": "IPY_MODEL_c915818928ac4aeaa0a681cdc36e0bfa"
          }
        },
        "02a1773326e94ac8b959f8742032f9ba": {
          "model_module": "@jupyter-widgets/controls",
          "model_name": "HTMLModel",
          "state": {
            "_view_name": "HTMLView",
            "style": "IPY_MODEL_5afbecbad7ed424092267db4bff6ff8e",
            "_dom_classes": [],
            "description": "",
            "_model_name": "HTMLModel",
            "placeholder": "​",
            "_view_module": "@jupyter-widgets/controls",
            "_model_module_version": "1.5.0",
            "value": " 0/5148 [00:00&lt;?, ?it/s]",
            "_view_count": null,
            "_view_module_version": "1.5.0",
            "description_tooltip": null,
            "_model_module": "@jupyter-widgets/controls",
            "layout": "IPY_MODEL_d1cdd043f3a64fd0adfac28b1fb921b6"
          }
        },
        "9d1e45169b0b4446b1fa8d5442a4521f": {
          "model_module": "@jupyter-widgets/controls",
          "model_name": "ProgressStyleModel",
          "state": {
            "_view_name": "StyleView",
            "_model_name": "ProgressStyleModel",
            "description_width": "initial",
            "_view_module": "@jupyter-widgets/base",
            "_model_module_version": "1.5.0",
            "_view_count": null,
            "_view_module_version": "1.2.0",
            "bar_color": null,
            "_model_module": "@jupyter-widgets/controls"
          }
        },
        "c915818928ac4aeaa0a681cdc36e0bfa": {
          "model_module": "@jupyter-widgets/base",
          "model_name": "LayoutModel",
          "state": {
            "_view_name": "LayoutView",
            "grid_template_rows": null,
            "right": null,
            "justify_content": null,
            "_view_module": "@jupyter-widgets/base",
            "overflow": null,
            "_model_module_version": "1.2.0",
            "_view_count": null,
            "flex_flow": null,
            "width": null,
            "min_width": null,
            "border": null,
            "align_items": null,
            "bottom": null,
            "_model_module": "@jupyter-widgets/base",
            "top": null,
            "grid_column": null,
            "overflow_y": null,
            "overflow_x": null,
            "grid_auto_flow": null,
            "grid_area": null,
            "grid_template_columns": null,
            "flex": null,
            "_model_name": "LayoutModel",
            "justify_items": null,
            "grid_row": null,
            "max_height": null,
            "align_content": null,
            "visibility": null,
            "align_self": null,
            "height": null,
            "min_height": null,
            "padding": null,
            "grid_auto_rows": null,
            "grid_gap": null,
            "max_width": null,
            "order": null,
            "_view_module_version": "1.2.0",
            "grid_template_areas": null,
            "object_position": null,
            "object_fit": null,
            "grid_auto_columns": null,
            "margin": null,
            "display": null,
            "left": null
          }
        },
        "5afbecbad7ed424092267db4bff6ff8e": {
          "model_module": "@jupyter-widgets/controls",
          "model_name": "DescriptionStyleModel",
          "state": {
            "_view_name": "StyleView",
            "_model_name": "DescriptionStyleModel",
            "description_width": "",
            "_view_module": "@jupyter-widgets/base",
            "_model_module_version": "1.5.0",
            "_view_count": null,
            "_view_module_version": "1.2.0",
            "_model_module": "@jupyter-widgets/controls"
          }
        },
        "d1cdd043f3a64fd0adfac28b1fb921b6": {
          "model_module": "@jupyter-widgets/base",
          "model_name": "LayoutModel",
          "state": {
            "_view_name": "LayoutView",
            "grid_template_rows": null,
            "right": null,
            "justify_content": null,
            "_view_module": "@jupyter-widgets/base",
            "overflow": null,
            "_model_module_version": "1.2.0",
            "_view_count": null,
            "flex_flow": null,
            "width": null,
            "min_width": null,
            "border": null,
            "align_items": null,
            "bottom": null,
            "_model_module": "@jupyter-widgets/base",
            "top": null,
            "grid_column": null,
            "overflow_y": null,
            "overflow_x": null,
            "grid_auto_flow": null,
            "grid_area": null,
            "grid_template_columns": null,
            "flex": null,
            "_model_name": "LayoutModel",
            "justify_items": null,
            "grid_row": null,
            "max_height": null,
            "align_content": null,
            "visibility": null,
            "align_self": null,
            "height": null,
            "min_height": null,
            "padding": null,
            "grid_auto_rows": null,
            "grid_gap": null,
            "max_width": null,
            "order": null,
            "_view_module_version": "1.2.0",
            "grid_template_areas": null,
            "object_position": null,
            "object_fit": null,
            "grid_auto_columns": null,
            "margin": null,
            "display": null,
            "left": null
          }
        }
      }
    }
  },
  "cells": [
    {
      "cell_type": "markdown",
      "metadata": {
        "id": "view-in-github",
        "colab_type": "text"
      },
      "source": [
        "<a href=\"https://colab.research.google.com/github/davidwah/.net/blob/master/Pengenalan_Neural_Networks_Deep_Learning.ipynb\" target=\"_parent\"><img src=\"https://colab.research.google.com/assets/colab-badge.svg\" alt=\"Open In Colab\"/></a>"
      ]
    },
    {
      "cell_type": "markdown",
      "metadata": {
        "id": "tPCRnGCcHo1o",
        "colab_type": "text"
      },
      "source": [
        "# buka materi di https://bit.ly/mkspynn\n",
        "\n",
        "# survey kelas di https://bit.ly/surveyeventdilomks\n"
      ]
    },
    {
      "cell_type": "markdown",
      "metadata": {
        "id": "jNYeM8j-FtFM",
        "colab_type": "text"
      },
      "source": [
        "# Hello World!\n",
        "\n",
        "Kenalkan, namaku oon arfiandwi. Bekerja sebagai software engineer di [7Langit Mobile Agency](https://7langit.com), saat ini sedang bekerja di kota Makassar dan aktif membuat kelas untuk komunitas developer python mks.py [(gabung diskusi telegram)](https://t.me/mkspy).\n",
        "\n",
        "### Referensi yang digunakan di kelas ini\n",
        "\n",
        "[Free Udacity Course ud188 Intro to Deep Learning with Pytorch](https://www.udacity.com/course/deep-learning-pytorch--ud188). Kursus dalam bahasa Inggris. [Contoh kode tersedia bebas di GitHub](https://github.com/udacity/deep-learning-v2-pytorch). Salah satu pengajarnya membuat video tentang CNN [A friendly introduction to Convolutional Neural Networks and Image Recognition](https://www.youtube.com/watch?v=2-Ol7ZB0MmU).\n",
        "\n",
        "[Free Udacity Course ud187 Intro to TensorFlow for Deep Learning](https://www.udacity.com/course/intro-to-tensorflow-for-deep-learning--ud187).\n",
        "\n",
        "[Free Google Developers Machine Learning Crash Course (MLCC)](https://developers.google.com/machine-learning/crash-course). Kursus dalam bahasa Inggris atau bahasa Indonesia.\n",
        "\n",
        "[Paid Coursera Specialization Tensorflow in Practice](https://www.coursera.org/specializations/tensorflow-in-practice). Kursus dalam bahasa Inggris, $49 per bulan dan juga ada beasiswa (financial aid). Bebas mencoba (free trial) 1 minggu. [Contoh kode tersedia bebas di GitHub](https://github.com/lmoroney/dlaicourse). Kursus ini sangat minim membahas aspek matematika di balik Machine Learning.\n",
        "\n",
        "[Paid Coursera Specialization Deep Learning](https://www.coursera.org/specializations/tensorflow-in-practice). Video kursus dapat diakses secara bebas (Free). Kursus dalam bahasa Inggris, $49 per bulan dan juga ada beasiswa (financial aid). Bebas mencoba (free trial) 1 minggu.\n",
        "\n",
        "[FREE Deep Learning Book MIT Press](https://www.deeplearningbook.org/). Deep Learning textbook yang tersedia online ini menjadi referensi utama untuk pembahasan topik Deep Learning.\n",
        "\n",
        "[What is Neural Network YouTube 3Blue1Brown](https://www.youtube.com/watch?v=aircAruvnKk). Animasi di video ini akan memudahkan menjelaskan pengubahan image sebagai Matrix menjadi Vector.\n",
        "\n",
        "[Pengenalan Neural Networks di situs OO](https://oo.or.id/intronn). Catatan belajar dari mengikuti kelas ud188.\n",
        "\n",
        "[Machine Learning Developer di Dicoding](https://www.dicoding.com/learningpaths/30). Saat ini ada beasiswa untuk belajar menjadi Machine Learning Developer, dengan kursus dalam bahasa Indonesia.\n"
      ]
    },
    {
      "cell_type": "markdown",
      "metadata": {
        "id": "ltW_JYfxGpFa",
        "colab_type": "text"
      },
      "source": [
        "### Kenapa sih perlu belajar Machine Learning?\n",
        "\n",
        "Beberapa alasan yang didapatkan dari yang sudah belajar:\n",
        "\n",
        "* Untuk mendapatkan pekerjaan baru, sejumlah perusahaan besar di Indonesia dan luar negeri banyak membuka lowongan terkait ML\n",
        "\n",
        "* Sebagai bagian dari pengetahuan sehari-hari, Artificial Intelligence dan Machine Learning ini penting untuk diketahui nggak cuma oleh orang IT, misalnya penting untuk orang Bisnis atau orang Produk sebagai pertimbangan dalam pekerjaannya\n",
        "\n",
        "* Kalo kamu sedang kuliah di bidang teknologi, topik tentang Machine Learning sedang menjadi pilihan utama untuk Skripsi dan Thesis\n",
        "\n",
        "* Buat kamu yang suka matematika waktu sekolah, ini bakal jadi topik yang menarik untuk dieksplorasi\n",
        "\n"
      ]
    },
    {
      "cell_type": "markdown",
      "metadata": {
        "id": "PJ9sImiIK946",
        "colab_type": "text"
      },
      "source": [
        "## Masalah yang dapat diselesaikan dengan Machine Learning\n",
        "\n",
        "*   Klasifikasi\n",
        "*   Prediksi Nilai (Regresi)\n",
        "*   Pembuatan Kluster\n",
        "\n",
        "\n",
        "### Masalah yang tidak cocok diselesaikan dengan Machine Learning\n",
        "\n",
        "masalah yang sudah diketahui kondisinya (atau persamaannya), sehingga lebih mudah untuk melakukan klasifikasi menggunakan `if-else`.\n",
        "\n",
        "\n"
      ]
    },
    {
      "cell_type": "markdown",
      "metadata": {
        "id": "Vh8nXmxqLO8Q",
        "colab_type": "text"
      },
      "source": [
        "## Machine Learning yang berbasis Statistika dan yang berbasis Neural Networks\n",
        "\n",
        "Di bahasa pemrograman Python, library yang sering digunakan dalam Machine Learning berbasis Statistika adalah [Scikit-Learn](https://scikit-learn.org/), di dalamnya ada banyak sekali fungsi dari implementasi algoritma Machine Learning berbasis Statistika.\n",
        "\n",
        "![scikit-learn algorithm cheat-sheet](https://scikit-learn.org/stable/_static/ml_map.png)\n",
        "\n",
        "Kemudian untuk library yang sering digunakan dalam Machine Learning berbasis Neural Networks antara lain [TensorFlow]() dan [PyTorch](). Meskipun tidak menutup kemungkinan sejumlah fungsi evaluasi dari Scikit-Learn juga digunakan dalam pemrosesan datanya. Salah satu library lain yang bisa digunakan adalah [Keras](), aplikasi ini bisa menggunakan TensorFlow, CNTK, Theano sebagai backend dari pemrosesan ML.\n",
        "\n",
        "Kita akan menggunakan library [NumPy]() yang sudah menjadi standar dalam pemrosesan Array (Vector, Matrix, Tensor) dari semua library Machine Learning dalam bahasa pemrograman Python.\n",
        "\n",
        "Kita akan menggunakan library [matplotlib]() untuk melakukan plot atau penggambaran grafik dari data."
      ]
    },
    {
      "cell_type": "code",
      "metadata": {
        "id": "2NcUDBCKDPFE",
        "colab_type": "code",
        "outputId": "def44b28-f6ee-4e05-c821-418d8e11bc7c",
        "colab": {
          "base_uri": "https://localhost:8080/",
          "height": 52
        }
      },
      "source": [
        "import tensorflow as tf\n",
        "from tensorflow import keras\n",
        "\n",
        "# check tensorflow installed version\n",
        "print(f'TensorFlow version: {tf.__version__}')\n",
        "\n",
        "# check pytorch if it is installed\n",
        "import torch\n",
        "print(f'Pytorch version: {torch.__version__}')\n",
        "\n",
        "# if not installed, install pytorch with package name torch and torchvision\n",
        "# !pip install torch torchvision\n",
        "\n",
        "import numpy as np\n",
        "import matplotlib.pyplot as plt"
      ],
      "execution_count": 0,
      "outputs": [
        {
          "output_type": "stream",
          "text": [
            "TensorFlow version: 2.2.0-rc3\n",
            "Pytorch version: 1.4.0\n"
          ],
          "name": "stdout"
        }
      ]
    },
    {
      "cell_type": "markdown",
      "metadata": {
        "id": "TlcJDlJ2Nz6P",
        "colab_type": "text"
      },
      "source": [
        "## Contoh Klasifikasi Biner\n",
        "\n",
        "Memecahkan masalah penerimaan mahasiswa di universitas berdasarkan data yang diterima dan ditolak.\n",
        "\n",
        "Dalam hal ini akan melakukan prediksi dalam lingkup diskrit, dengan label \"Diterima\" dan \"Ditolak\".\n",
        "\n",
        "Kita butuh mencari garis yang memilah kedua kemungkinan tersebut dengan nilai kesalahan (_error_) yang paling kecil.\n",
        "\n",
        "![Klasifikasi Biner](https://oo.or.id/images/2018/nn001.webp)\n",
        "\n",
        "gambar milik (diambil dari) video [kursus Udacity ud188](https://www.udacity.com/course/deep-learning-pytorch--ud188)\n",
        "\n",
        "### Contoh Pencarian Persamaan dengan Machine Learning"
      ]
    },
    {
      "cell_type": "markdown",
      "metadata": {
        "id": "NIOCUewFPdO-",
        "colab_type": "text"
      },
      "source": [
        "## Contoh Klasifikasi MultiKelas (multiclass)\n",
        "\n",
        "MNIST database (Modified National Institute of Standards and Technology)\n",
        "\n",
        "![hand-written digits](https://upload.wikimedia.org/wikipedia/commons/2/27/MnistExamples.png)\n",
        "\n",
        "hand written digits (MNIST).\n",
        "Melakukan klasifikasi untuk 10 kelas, yaitu angka 0 sampai angka 9.\n",
        "\n",
        "Karena untuk pengenalan tulisan tangan tersebut sudah masuk dalam kategori \"terlalu mudah\" untuk aplikasi Machine Learning, maka dibuat dataset yang lebih susah, yaitu untuk mengenali 10 jenis pakaian (Fashion).\n",
        "\n",
        "\n",
        "![Fashion-MNIST](https://miro.medium.com/max/571/1*evP6ekF_aPAxMzSL3LZmAg.png)\n",
        "\n",
        "Fashion-MNIST.\n",
        "Melakukan klasifikasi untuk 10 kelas: 'T-shirt/top', 'Trouser',\n",
        "'Pullover', 'Dress', 'Coat', 'Sandal', 'Shirt', 'Sneaker', 'Bag', 'Ankle Boot'."
      ]
    },
    {
      "cell_type": "markdown",
      "metadata": {
        "id": "u8WeHfk3OCBD",
        "colab_type": "text"
      },
      "source": [
        "## Pada saat apa kita butuh memahami tentang Matematika di balik Machine Learning\n",
        "\n",
        "Gambaran matematika yang dibutuhkan untuk Machine Learning bisa dilihat di buku [Deep Learning Part I, Applied Math and Machine Learning Basics](https://www.deeplearningbook.org/).\n",
        "\n",
        "### Ada yang esensial, seperti Aljabar Linear\n",
        "\n",
        "![](https://i.ibb.co/rmNyBmC/image.png)\n",
        "\n",
        "gambar diambil dari [buku Deep Learning](https://www.deeplearningbook.org/), membahas tentang bagaimana membedakan 10 data di dalam 1 dimensi, 2 dimensi, dan 3 dimensi.\n",
        "\n",
        "Semakin besar dimensinya maka kita akan butuh semakin banyak alokasi sumber daya, sebagai contoh pada gambar tersebut di 3 dimensi membutuhkan 10 x 10 x 10 wilayah.\n",
        "\n",
        "![Matrix to Vector](https://i.ibb.co/99Mb071/image.png)\n",
        "\n",
        "Seperti dalam [video YouTube ini](https://www.youtube.com/watch?v=aircAruvnKk&t=295s), sebuah gambar 28x28 pixels diubah menjadi Matrix 2 dimensi menjadi sebuah Vector yang menjadi masukan dari Neural Networks.\n",
        "\n",
        "\n",
        "### Ada yang butuh pengertian yang sangat dalam dalam implementasinya, contoh yang sulit sekali seperti Algoritma t-SNE (T-distributed Stochastic Neighbor Embedding)\n",
        "\n",
        "Salah satu contohnya adalah visualiasasi Word Embedding dengan 100 dimensi menjadi 2 dimensi atau 3 dimensi, bisa dicoba di situs https://projector.tensorflow.org/\n",
        "\n",
        "\n",
        "\n"
      ]
    },
    {
      "cell_type": "markdown",
      "metadata": {
        "id": "lnp5DP2hN9G0",
        "colab_type": "text"
      },
      "source": [
        "# Hello World of Deep Learning with Neural Networks\n",
        "\n",
        "contoh kasus diambil dari [TensorFlow in Practice: Course 1 Part 2 Lesson 2](https://render.githubusercontent.com/view/ipynb?commit=5f7b04412ee262e5f50e931bce093e64fdd2b0c8&enc_url=68747470733a2f2f7261772e67697468756275736572636f6e74656e742e636f6d2f6c6d6f726f6e65792f646c6169636f757273652f356637623034343132656532363265356635306539333162636530393365363466646432623063382f436f75727365253230312532302d25323050617274253230322532302d2532304c6573736f6e253230322532302d2532304e6f7465626f6f6b2e6970796e62&nwo=lmoroney%2Fdlaicourse&path=Course+1+-+Part+2+-+Lesson+2+-+Notebook.ipynb&repository_id=171490796&repository_type=Repository#The-Hello-World-of-Deep-Learning-with-Neural-Networks).\n",
        "\n",
        "Ada sepasang deretan angka,\n",
        "\n",
        "kalo nilai `x = 0` akan mengembalikan nilai `y = -1`,\n",
        "\n",
        "\n",
        "kalo nilai `x = 1` akan mengembalikan nilai `y = 1`,\n",
        "\n",
        "\n",
        "dan seterusnya, sehingga deretnya bisa dituliskan sebagai:\n",
        "\n",
        "```\n",
        "x = [-1,  0, 1, 2, 3, 4]\n",
        "y = [-3, -1, 1, 3, 5, 7]\n",
        "```\n",
        "\n",
        "Deret yang cukup sederhana ini, cukup mudah ditebak polanya, bahwa nilai `y` adalah nilai `2 x - 1`.\n",
        "\n",
        "Dalam kode pemrograman python, kita bisa menuliskan sebuah fungsi bernama model sebagai:\n",
        "```\n",
        "def model(x):\n",
        "    y = (2 * x) - 1\n",
        "    return y\n",
        "```\n",
        "\n",
        "Jadi untuk nilai `x = 10`, menggunakan fungsi tersebut, kita akan mendapatkan `y = 19`.\n",
        "\n",
        "Tapi bagaimana caranya membuat sebuah aplikasi Deep Learning dengan Neural Network untuk memecahkan permasalahan yang sama di atas?\n",
        "\n",
        "Jawabnya: cukup dengan memberikan data pasangan deretan angkanya ke aplikasi Neural Networks, dalam hal ini akan dicontohkan menggunakan TensorFlow, dengan sintaksis dari Keras.\n",
        "\n",
        "1. Kita akan menggunakan `Sequential` sebagai model yang bisa diisi sejumlah layer\n",
        "2. Kemudian untuk layer Neural Network (NN) kita gunakan `Dense`, sebuah implementasi NN yang bisa dihubungkan secara penuh/padat (_densely_). Kita hanya akan menggunakan 1 unit Neuron, dengan masukan sebuah angka, atau dituliskan sebagai `[1]` yaitu Vector berdimensi 1.\n",
        "3. Selanjutnya model ini kita lakukan kompilasi dengan 2 parameter: fungsi optimizer dan fungsi loss. (akan dibahas berikutnya)\n",
        "4. Kita akan melatih (_train_) aplikasi dengan memberikan pasangan data, semacam latihan memberikan pertanyaan dan kunci jawaban. `x` sebagai data masukan dan `y` sebagai jawaban yang kita sebut **label**.\n",
        "5. Proses latih akan kita lakukan dengan data latih, sebanyak 500 kali latihan, jumlah latihan kita sebut sebagai **epochs**.\n",
        "6. Setelah latihan selesai, model siap digunakan, selanjutnya kita akan meminta model melakukan prediksi berapa nilai `y` untuk nilai `x = 10`. Dalam notasi matematika, prekdiksi y dituliskan sebagai $\\hat{y}$ dibaca _y hat_.\n",
        "\n",
        "\n",
        "Dokumentasi:\n",
        "* [Sequential](https://www.tensorflow.org/api_docs/python/tf/keras/Sequential)\n",
        "* [Dense](https://www.tensorflow.org/api_docs/python/tf/keras/layers/Dense)\n",
        "* [sgd](https://www.tensorflow.org/api_docs/python/tf/keras/optimizers/SGD)\n",
        "* [mean_squared_error](https://www.tensorflow.org/api_docs/python/tf/keras/losses/MSE)"
      ]
    },
    {
      "cell_type": "code",
      "metadata": {
        "id": "M3gVoyWeTXVe",
        "colab_type": "code",
        "colab": {}
      },
      "source": [
        "# langkah 1 dan 2\n",
        "model = tf.keras.Sequential([\n",
        "            keras.layers.Dense(units=1, input_shape=[1])\n",
        "        ])\n",
        "\n",
        "# langkah 3\n",
        "model.compile(optimizer='sgd', loss='mean_squared_error')\n",
        "\n",
        "# langkah 4, menyediakan data latih\n",
        "xs = np.array([-1.0,  0.0, 1.0, 2.0, 3.0, 4.0], dtype=float)\n",
        "ys = np.array([-3.0, -1.0, 1.0, 3.0, 5.0, 7.0], dtype=float)\n",
        "\n",
        "# langkah 5\n",
        "model.fit(xs, ys, epochs=500)\n",
        "\n"
      ],
      "execution_count": 0,
      "outputs": []
    },
    {
      "cell_type": "code",
      "metadata": {
        "id": "E02TRgI8cRvh",
        "colab_type": "code",
        "outputId": "20d69e02-d78b-48ba-b16b-8c4c0d74b8a0",
        "colab": {
          "base_uri": "https://localhost:8080/",
          "height": 34
        }
      },
      "source": [
        "# langkah 6\n",
        "y_hat = model.predict([10.0])\n",
        "print('prediksi y: {}'.format(y_hat))\n"
      ],
      "execution_count": 0,
      "outputs": [
        {
          "output_type": "stream",
          "text": [
            "prediksi y: [[18.97888]]\n"
          ],
          "name": "stdout"
        }
      ]
    },
    {
      "cell_type": "markdown",
      "metadata": {
        "id": "kaH8h4pfPu4j",
        "colab_type": "text"
      },
      "source": [
        "# Neural Networks\n"
      ]
    },
    {
      "cell_type": "markdown",
      "metadata": {
        "id": "ZnCUZJ8iQK_T",
        "colab_type": "text"
      },
      "source": [
        "\n",
        "![What is a Neural Network by 3Blue1Brown in YouTube](https://i.ibb.co/qpnKVpR/image.png)\n",
        "\n",
        "gambar diambil dari penjelasan apa itu Neural Network di [video YouTube oleh 3Blue1Brown](https://www.youtube.com/watch?v=aircAruvnKk).\n",
        "\n",
        "Pendekatan (Artificial) Neural Networks itu didapatkan dari Biological Neural Networks yang ada di sistem syarat manusia. gambar milik (diambil dari) video [kursus Udacity ud188](https://www.udacity.com/course/deep-learning-pytorch--ud188)\n",
        "\n",
        "\n",
        "![Artificial and Biological Neural Networks](https://oo.or.id/images/2018/nn012.webp)\n",
        "\n",
        "Pada kasus yang sebelumnya menentukan \"Diterima\" atau \"Ditolak\" masuk universitas menggunakan dua masukan \"Test\" dan \"Grades\" bisa digambarkan sebagai berikut.\n",
        "\n",
        "![Perceptron](https://oo.or.id/images/2018/nn005.webp)\n",
        "\n",
        "Dengan persamaan `2*Test + 1*Grades -18` maka prediksinya bisa digambarkan sebagai berikut:\n",
        "\n",
        "![Prediction with Perceptron](https://oo.or.id/images/2018/nn008.webp)\n",
        "\n",
        "Dengan gambaran sebagai satu fungsi liniear yang menerima masukan dan satu fungsi \"step\" yang akan memberikan nilai prediksi klasifikasi biner, tampil seperti berikut:\n",
        "\n",
        "![Linear function and Step function](https://oo.or.id/images/2018/nn010.webp)\n",
        "\n"
      ]
    },
    {
      "cell_type": "markdown",
      "metadata": {
        "id": "CsQasg6aPylh",
        "colab_type": "text"
      },
      "source": [
        "# Deep Learning\n",
        "\n",
        "### Multilayer Perceptron\n",
        "\n",
        "Deep Learning adalah implementasi dari Neural Networks yang tidak hanya memiliki input-layer dan output-layer, tapi memiliki satu atau lebih hidden-layer di tengahnya, sering juga disebut sebagai Multilayer Perceptron (MLP).\n",
        "\n",
        "\n",
        "\n",
        "### Underfitting, Overfitting\n",
        "\n",
        "![Underfitting, Overfitting](https://i.ibb.co/LJBpf7R/image.png)\n",
        "\n",
        "gambar diambil dari Machine Learning Basic (ch. 5) di buku [Deep Learning](https://www.deeplearningbook.org/contents/ml.html)\n",
        "\n",
        "Deep Learning dapat mencari persamaan dari data yang kita proses, namun tampak pada gambar ada 3 kondisi yaitu Underfitting, kondisi yang pas, Overfitting. (hal ini juga bisa terjadi pada implementasi Machine Learning secara umum)\n",
        "\n",
        "*   Pada kondisi Underfitting, persamaannya masih belum cukup tepat untuk bisa memberikan akurasi yang baik dari kondisi data yang ada, bahkan untuk data yang latih pun akurasinya kurang.\n",
        "\n",
        "*   Pada kondisi Overfitting, persamaannya memberikan akurasi yang \"terlalu baik\" pada data latih. Sehingga pada saat persamaan itu diuji dengan data yang belum pernah diketahui sebelumnya akan memberikan hasil dengan akurasi yang buruk.\n",
        "\n"
      ]
    },
    {
      "cell_type": "markdown",
      "metadata": {
        "id": "KUZ8UcHHQGjK",
        "colab_type": "text"
      },
      "source": [
        "### Menggunakan Dataset Fashion-MNIST\n",
        "\n",
        "![Fashion-MNIST Dataset](https://3qeqpr26caki16dnhd19sv6by6v-wpengine.netdna-ssl.com/wp-content/uploads/2019/02/Plot-of-a-Subset-of-Images-from-the-Fashion-MNIST-Dataset-1024x768.png)\n",
        "\n",
        "gambar diambil dari [Machine Learning Mastery](https://machinelearningmastery.com/how-to-develop-a-cnn-from-scratch-for-fashion-mnist-clothing-classification/).\n",
        "\n",
        "Dataset Fashion-MNIST terdiri dari 70.000 gambar yang sudah diklasifikasikan dalam 10 kelas.\n",
        "\n",
        "Gambarnya berukuran 28x28 pixel, grayscale. \n",
        "\n",
        "contoh kasus diambil dari ud188 Introduction to Pytorch,\n",
        "[Fashion-MNIST (exercise)](https://github.com/udacity/deep-learning-v2-pytorch/blob/master/intro-to-pytorch/Part%204%20-%20Fashion-MNIST%20(Exercises).ipynb),\n",
        "[Fashion-MNIST (solution)](https://github.com/udacity/deep-learning-v2-pytorch/blob/master/intro-to-pytorch/Part%204%20-%20Fashion-MNIST%20(Solution).ipynb)."
      ]
    },
    {
      "cell_type": "code",
      "metadata": {
        "id": "fPj19T4QC-at",
        "colab_type": "code",
        "outputId": "b343a73c-d273-43d6-845b-50c6457d0168",
        "colab": {
          "base_uri": "https://localhost:8080/",
          "height": 394,
          "referenced_widgets": [
            "3af75b34938d440ab74ac12eb2a3495f",
            "0124d391128b4b41adf1b6e510a826bb",
            "d929956e8e7c42c3b82da78e96a63d3c",
            "4e471201243940cd96e04fc3e950241f",
            "8bf3de71c70247d08dedb7f82a6af954",
            "b242f55e9f674a609d65706cff46e9f1",
            "8878aa2e395141a3b563f8da1c3b369e",
            "f58e826160134f36bf17e287462df4d4",
            "32b2f765ce0d4be1a097586e7bcb659e",
            "6d402d927eb04c108d1ffb8820dbdd65",
            "d2c3d3fa0fb84d02af8b6059a77b6146",
            "93ec4781267c48dda9b80203e2838c95",
            "36d977010cd14d129324b00478d8ffda",
            "bd3a05aacef046afb4cbc03d124ebc83",
            "ae664d39e00443f1bd3e378fe66ac55b",
            "46ae701fb5bf4ac8adfd519c01d67b9f",
            "cb358d3e80ef48afa1b392aadbcaf629",
            "560d6d23815d4a4eada0c8a5efd03487",
            "ca766e8105574e35899d5e470ea17031",
            "4bfb1af376e245c6a1002459971f9aab",
            "c501d95fbafb4f4e8528d1c57242a0ef",
            "6a7ac320fb8c4747a9b06820187429f2",
            "6f25f6dae7454c8fb5a71a990eda4bcc",
            "096947b4d0074ab9a02d897f02ae4226",
            "398a03e72a2441bc8406c80821bd2fe1",
            "355958a175e343c59170a66f1c8a258e",
            "445c3b482a1e437e9da80a373922eec0",
            "02a1773326e94ac8b959f8742032f9ba",
            "9d1e45169b0b4446b1fa8d5442a4521f",
            "c915818928ac4aeaa0a681cdc36e0bfa",
            "5afbecbad7ed424092267db4bff6ff8e",
            "d1cdd043f3a64fd0adfac28b1fb921b6"
          ]
        }
      },
      "source": [
        "import torch\n",
        "from torchvision import datasets, transforms\n",
        "\n",
        "# Define a transform to normalize the data\n",
        "transform = transforms.Compose([transforms.ToTensor(),\n",
        "                                transforms.Normalize((0.5,), (0.5,))])\n",
        "# Download and load the training data\n",
        "trainset = datasets.FashionMNIST('~/.pytorch/F_MNIST_data/',\n",
        "                                 download=True, train=True, transform=transform)\n",
        "trainloader = torch.utils.data.DataLoader(trainset, batch_size=64, shuffle=True)\n",
        "print(f'trainloader len: {len(trainloader.dataset)}')\n",
        "\n",
        "# Download and load the test data\n",
        "testset = datasets.FashionMNIST('~/.pytorch/F_MNIST_data/',\n",
        "                                download=True, train=False, transform=transform)\n",
        "testloader = torch.utils.data.DataLoader(testset, batch_size=64, shuffle=True)\n",
        "print(f'testloader len: {len(testloader.dataset)}')\n"
      ],
      "execution_count": 0,
      "outputs": [
        {
          "output_type": "stream",
          "text": [
            "Downloading http://fashion-mnist.s3-website.eu-central-1.amazonaws.com/train-images-idx3-ubyte.gz to /root/.pytorch/F_MNIST_data/FashionMNIST/raw/train-images-idx3-ubyte.gz\n"
          ],
          "name": "stdout"
        },
        {
          "output_type": "display_data",
          "data": {
            "application/vnd.jupyter.widget-view+json": {
              "model_id": "3af75b34938d440ab74ac12eb2a3495f",
              "version_minor": 0,
              "version_major": 2
            },
            "text/plain": [
              "HBox(children=(IntProgress(value=1, bar_style='info', max=1), HTML(value='')))"
            ]
          },
          "metadata": {
            "tags": []
          }
        },
        {
          "output_type": "stream",
          "text": [
            "Extracting /root/.pytorch/F_MNIST_data/FashionMNIST/raw/train-images-idx3-ubyte.gz to /root/.pytorch/F_MNIST_data/FashionMNIST/raw\n",
            "Downloading http://fashion-mnist.s3-website.eu-central-1.amazonaws.com/train-labels-idx1-ubyte.gz to /root/.pytorch/F_MNIST_data/FashionMNIST/raw/train-labels-idx1-ubyte.gz\n"
          ],
          "name": "stdout"
        },
        {
          "output_type": "display_data",
          "data": {
            "application/vnd.jupyter.widget-view+json": {
              "model_id": "32b2f765ce0d4be1a097586e7bcb659e",
              "version_minor": 0,
              "version_major": 2
            },
            "text/plain": [
              "HBox(children=(IntProgress(value=1, bar_style='info', max=1), HTML(value='')))"
            ]
          },
          "metadata": {
            "tags": []
          }
        },
        {
          "output_type": "stream",
          "text": [
            "Extracting /root/.pytorch/F_MNIST_data/FashionMNIST/raw/train-labels-idx1-ubyte.gz to /root/.pytorch/F_MNIST_data/FashionMNIST/raw\n",
            "Downloading http://fashion-mnist.s3-website.eu-central-1.amazonaws.com/t10k-images-idx3-ubyte.gz to /root/.pytorch/F_MNIST_data/FashionMNIST/raw/t10k-images-idx3-ubyte.gz\n"
          ],
          "name": "stdout"
        },
        {
          "output_type": "display_data",
          "data": {
            "application/vnd.jupyter.widget-view+json": {
              "model_id": "cb358d3e80ef48afa1b392aadbcaf629",
              "version_minor": 0,
              "version_major": 2
            },
            "text/plain": [
              "HBox(children=(IntProgress(value=1, bar_style='info', max=1), HTML(value='')))"
            ]
          },
          "metadata": {
            "tags": []
          }
        },
        {
          "output_type": "stream",
          "text": [
            "\n",
            "Extracting /root/.pytorch/F_MNIST_data/FashionMNIST/raw/t10k-images-idx3-ubyte.gz to /root/.pytorch/F_MNIST_data/FashionMNIST/raw\n",
            "Downloading http://fashion-mnist.s3-website.eu-central-1.amazonaws.com/t10k-labels-idx1-ubyte.gz to /root/.pytorch/F_MNIST_data/FashionMNIST/raw/t10k-labels-idx1-ubyte.gz\n"
          ],
          "name": "stdout"
        },
        {
          "output_type": "display_data",
          "data": {
            "application/vnd.jupyter.widget-view+json": {
              "model_id": "398a03e72a2441bc8406c80821bd2fe1",
              "version_minor": 0,
              "version_major": 2
            },
            "text/plain": [
              "HBox(children=(IntProgress(value=1, bar_style='info', max=1), HTML(value='')))"
            ]
          },
          "metadata": {
            "tags": []
          }
        },
        {
          "output_type": "stream",
          "text": [
            "Extracting /root/.pytorch/F_MNIST_data/FashionMNIST/raw/t10k-labels-idx1-ubyte.gz to /root/.pytorch/F_MNIST_data/FashionMNIST/raw\n",
            "Processing...\n",
            "Done!\n",
            "trainloader len: 60000\n",
            "testloader len: 10000\n"
          ],
          "name": "stdout"
        }
      ]
    },
    {
      "cell_type": "code",
      "metadata": {
        "id": "GaUU7AlhDAE7",
        "colab_type": "code",
        "outputId": "7c01b531-c7a9-4a1d-dbc6-60a5b4c38d5d",
        "colab": {
          "base_uri": "https://localhost:8080/",
          "height": 265
        }
      },
      "source": [
        "def imshow(image, ax=None, title=None, normalize=True):\n",
        "    \"\"\"Imshow for Tensor.\"\"\"\n",
        "    if ax is None:\n",
        "        fig, ax = plt.subplots()\n",
        "    image = image.numpy().transpose((1, 2, 0))\n",
        "\n",
        "    if normalize:\n",
        "        mean = np.array([0.485, 0.456, 0.406])\n",
        "        std = np.array([0.229, 0.224, 0.225])\n",
        "        image = std * image + mean\n",
        "        image = np.clip(image, 0, 1)\n",
        "\n",
        "    ax.imshow(image)\n",
        "    ax.spines['top'].set_visible(False)\n",
        "    ax.spines['right'].set_visible(False)\n",
        "    ax.spines['left'].set_visible(False)\n",
        "    ax.spines['bottom'].set_visible(False)\n",
        "    ax.tick_params(axis='both', length=0)\n",
        "    ax.set_xticklabels('')\n",
        "    ax.set_yticklabels('')\n",
        "\n",
        "    return ax\n",
        "\n",
        "image, label = next(iter(trainloader))\n",
        "imshow(image[0,:])\n",
        "label_names = ['T-shirt/top', 'Trouser', 'Pullover', 'Dress', 'Coat', 'Sandal',\n",
        "               'Shirt', 'Sneaker', 'Bag', 'Ankle boot']\n",
        "print(f'label: {label[0]} which is {label_names[label[0]]}')\n"
      ],
      "execution_count": 0,
      "outputs": [
        {
          "output_type": "stream",
          "text": [
            "label: 3 which is Dress\n"
          ],
          "name": "stdout"
        },
        {
          "output_type": "display_data",
          "data": {
            "image/png": "[encoded data removed]",
            "text/plain": [
              "<Figure size 432x288 with 1 Axes>"
            ]
          },
          "metadata": {
            "tags": [],
            "needs_background": "light"
          }
        }
      ]
    },
    {
      "cell_type": "code",
      "metadata": {
        "id": "byk21i3iFmAv",
        "colab_type": "code",
        "outputId": "dc358c1f-b2bc-4544-ed3d-28afc6ca5ed5",
        "colab": {
          "base_uri": "https://localhost:8080/",
          "height": 193
        }
      },
      "source": [
        "from torch import nn, optim, device, cuda\n",
        "model = nn.Sequential(nn.Linear(784, 1024),\n",
        "                      nn.ReLU(),\n",
        "                      nn.Linear(1024, 512),\n",
        "                      nn.ReLU(),\n",
        "                      nn.Linear(512, 128),\n",
        "                      nn.ReLU(),\n",
        "                      nn.Linear(128, 64),\n",
        "                      nn.ReLU(),\n",
        "                      nn.Linear(64, 10),\n",
        "                      nn.LogSoftmax(dim=1))\n",
        "\n",
        "criterion = nn.NLLLoss()\n",
        "# optimizer = optim.SGD(model.parameters(), lr=0.003)\n",
        "optimizer = optim.Adam(model.parameters(), lr=0.003)\n",
        "\n",
        "device = device(\"cuda:0\" if cuda.is_available() else \"cpu\")\n",
        "model.to(device)  # model will use CPU or GPU\n",
        "\n",
        "epochs = 10\n",
        "for e in range(epochs):\n",
        "    running_loss = 0\n",
        "    for images, labels in trainloader:\n",
        "        # Move input and label tensors to the GPU\n",
        "        images, labels = images.to(device), labels.to(device)\n",
        "\n",
        "        # Flatten MNIST images into a 784 long vector\n",
        "        images = images.view(images.shape[0], -1)\n",
        "\n",
        "        optimizer.zero_grad()\n",
        "        \n",
        "        output = model(images)\n",
        "        loss = criterion(output, labels)\n",
        "        loss.backward()\n",
        "        optimizer.step()\n",
        "        \n",
        "        running_loss += loss.item()\n",
        "    else:\n",
        "        print(f\"Training loss: {running_loss/len(trainloader)}\")"
      ],
      "execution_count": 0,
      "outputs": [
        {
          "output_type": "stream",
          "text": [
            "Training loss: 0.5100707011436348\n",
            "Training loss: 0.3963727701638045\n",
            "Training loss: 0.3530431623969759\n",
            "Training loss: 0.33466068109564945\n",
            "Training loss: 0.3139375827030968\n",
            "Training loss: 0.3004006291471565\n",
            "Training loss: 0.2916817661446295\n",
            "Training loss: 0.28258984130837006\n",
            "Training loss: 0.2715433014552794\n",
            "Training loss: 0.26690571840161453\n"
          ],
          "name": "stdout"
        }
      ]
    },
    {
      "cell_type": "code",
      "metadata": {
        "id": "473N4YOoJmSz",
        "colab_type": "code",
        "outputId": "228869b8-d8bc-4a42-9185-03543e2e07e1",
        "colab": {
          "base_uri": "https://localhost:8080/",
          "height": 233
        }
      },
      "source": [
        "def view_classify(img, ps, version=\"MNIST\"):\n",
        "    ''' Function for viewing an image and it's predicted classes.\n",
        "    '''\n",
        "    ps = ps.data.numpy().squeeze()\n",
        "\n",
        "    fig, (ax1, ax2) = plt.subplots(figsize=(6,9), ncols=2)\n",
        "    ax1.imshow(img.resize_(1, 28, 28).numpy().squeeze())\n",
        "    ax1.axis('off')\n",
        "    ax2.barh(np.arange(10), ps)\n",
        "    ax2.set_aspect(0.1)\n",
        "    ax2.set_yticks(np.arange(10))\n",
        "    if version == \"MNIST\":\n",
        "        ax2.set_yticklabels(np.arange(10))\n",
        "    elif version == \"Fashion\":\n",
        "        ax2.set_yticklabels(['T-shirt/top', 'Trouser', 'Pullover', 'Dress',\n",
        "                             'Coat', 'Sandal', 'Shirt', 'Sneaker', 'Bag',\n",
        "                             'Ankle Boot'], size='small');\n",
        "    ax2.set_title('Class Probability')\n",
        "    ax2.set_xlim(0, 1.1)\n",
        "\n",
        "    plt.tight_layout()\n",
        "\n",
        "%matplotlib inline\n",
        "%config InlineBackend.figure_format = 'retina'\n",
        "\n",
        "# Test out your network!\n",
        "\n",
        "dataiter = iter(testloader)\n",
        "images, labels = dataiter.next()\n",
        "images, labels = images.to(device), labels.to(device)  # GPU\n",
        "img = images[1].view(images[1].shape[0], -1)  # flatten\n",
        "\n",
        "# Calculate the class probabilities (softmax) for img\n",
        "ps = torch.exp(model(img))\n",
        "\n",
        "# Plot the image and probabilities\n",
        "view_classify(img.cpu(), ps.cpu(), version='Fashion')  # CPU"
      ],
      "execution_count": 0,
      "outputs": [
        {
          "output_type": "display_data",
          "data": {
            "image/png": "[encoded data removed]",
            "text/plain": [
              "<Figure size 432x648 with 2 Axes>"
            ]
          },
          "metadata": {
            "tags": [],
            "image/png": {
              "width": 424,
              "height": 216
            },
            "needs_background": "light"
          }
        }
      ]
    },
    {
      "cell_type": "markdown",
      "metadata": {
        "colab_type": "text",
        "id": "ceXaV-YApV-l"
      },
      "source": [
        "# Convolutional Neural Network (CNN)\n",
        "\n",
        "Sebelumnya kita hanya memroses dataset yang sudah sangat disederhanakan:\n",
        "\n",
        "*   gambarnya ukuran 28x28 pixels, dalam kondisi nyata gambar berukuran ini terlalu kecil\n",
        "*   gambarnya hanya grayscale, tidak berwarna, sehari-hari kita menggunakan gambar berwarna\n",
        "*   gambarnya sudah diposisikan penuh di tengah, dalam kondisi nyata sering gambar kita tidak di tengah, atau bahkan gambarnya terpotong\n",
        "\n",
        "Untuk mencoba dengan dataset berwarna, kita akan menggunakan Convolutional Neural Networks yang lebih optimal untuk pemrosesan gambar. Bisa dipelajari dari video YouTube [A friendly introduction to Convolutional Neural Networks and Image Recognition](https://www.youtube.com/watch?v=2-Ol7ZB0MmU).\n",
        "\n",
        "Teknik Convolution sendiri diambil dari fungsi matematika untuk pemrosesan grafis, bisa dilihat penjelasannya di wikipedia [ini](https://en.wikipedia.org/wiki/Convolution) atau [ini](https://en.wikipedia.org/wiki/Kernel_(image_processing)#Convolution). Teknik ini akan mendapatkan informasi tertentu dari gambar, misalnya informasi tepian (_edge_) dari suatu gambar.\n",
        "\n",
        "Berikut adalah contoh menggunakan CNN dengan dataset gambar 150x150 pixels sebanyak 2000 gambar kucing dan anjing. ada di [ipynb ini](https://github.com/lmoroney/dlaicourse/blob/master/Course%202%20-%20Part%202%20-%20Lesson%202%20-%20Notebook.ipynb) atau [ipynb ini](https://github.com/lmoroney/dlaicourse/blob/master/Course%202%20-%20Part%204%20-%20Lesson%202%20-%20Notebook%20(Cats%20v%20Dogs%20Augmentation).ipynb). kita akan training dengan 1000 gambar kucing, 1000 gambar anjing. kemudian validasi dengan 500 gambar kucing, 500 gambar anjing.\n",
        "\n",
        "![dataset gambar kucing dan anjing](https://i.ibb.co/mFY31vH/image.png)\n",
        "\n",
        "Implementasi CNN, menggunakan layer Conv2D dan MaxPolling2D. Kode dalam implementasi TensorFlow.\n",
        "\n",
        "*   Menggunakan beberapa layer Convolutional\n",
        "*   Gambar masukan adalah 150x150 pixels, dalam warna RGB, sehingga dituliskan sebagai (150, 150, 3).\n",
        "*   Polling2D (2, 2) akan membuat dari 4 pixels gambar, diambil hanya 1. MaxPolling2D artinya hanya ambil 1 yang nilainya **paling besar**. Sehingga gambar akan berkurang ukurannya menjadi 1/4 dari sebelumnya.\n",
        "\n",
        "*   Setelah layer Convolutional, data dilakukan Flatten untuk digunakan sebagai masukan dari Dense layer (fully connected layer)\n",
        "\n",
        "*   setiap layer menggunakan activation function **ReLU**, kecuali pada bagian akhir menggunakan activation function **Sigmoid** yang optimal untuk klasifikasi biner, karena keluarannya hanya 2 kelas yaitu kucing atau anjing.\n",
        "\n",
        "\n",
        "```\n",
        "model = tf.keras.models.Sequential([\n",
        "    # Note the input shape is the desired size of the image 150x150 with 3 bytes color\n",
        "    tf.keras.layers.Conv2D(16, (3,3), activation='relu', input_shape=(150, 150, 3)),\n",
        "    tf.keras.layers.MaxPooling2D(2,2),\n",
        "    tf.keras.layers.Conv2D(32, (3,3), activation='relu'),\n",
        "    tf.keras.layers.MaxPooling2D(2,2), \n",
        "    tf.keras.layers.Conv2D(64, (3,3), activation='relu'), \n",
        "    tf.keras.layers.MaxPooling2D(2,2),\n",
        "    # Flatten the results to feed into a DNN\n",
        "    tf.keras.layers.Flatten(), \n",
        "    # 512 neuron hidden layer\n",
        "    tf.keras.layers.Dense(512, activation='relu'), \n",
        "    # Only 1 output neuron. It will contain a value from 0-1 where 0 for 1 class ('cats') and 1 for the other ('dogs')\n",
        "    tf.keras.layers.Dense(1, activation='sigmoid')  \n",
        "])\n",
        "```\n",
        "\n",
        "Dengan Deep Learning arsitektur di atas, kita akan mendapatkan akurasi sekitar 72%, artinya masih ada kemungkinan 28% klasifikasi akan salah menebak anjing sebagai kucing dan sebaliknya.\n",
        "\n",
        "Salah satu penyebabnya adalah data yang digunakan pada proses training ini sedikit yaitu 2000 gambar saja.\n",
        "\n",
        "Training dengan 3 layer Convolutional saja akan membutuhkan waktu lama, sehingga untuk mendapatkan akurasi yang lebih tinggi, menggunakan jumlah layer yang lebih banyak akan membutuhkan sumber daya yang sangat besar.\n"
      ]
    },
    {
      "cell_type": "code",
      "metadata": {
        "id": "-a9TAa3_OJfK",
        "colab_type": "code",
        "colab": {}
      },
      "source": [
        ""
      ],
      "execution_count": 0,
      "outputs": []
    },
    {
      "cell_type": "markdown",
      "metadata": {
        "id": "f01yEs2NGBuW",
        "colab_type": "text"
      },
      "source": [
        "# Transfer Learning\n",
        "\n",
        "Salah satu keunggulan dari model Deep Learning adalah kemampuan untuk **transfer learning**, sehingga jika sudah ada model yang sudah dilatih (_pretrained_) oleh pihak lain, kita bisa menggunakannya sebagai basis model, kemudian menambahkan training dengan dataset yang baru. Bisa dipelajari di kursus [CNN in TensorFlow](https://www.coursera.org/lecture/convolutional-neural-networks-tensorflow/understanding-transfer-learning-the-concepts-BOoYc) dan kursus [CNN](https://www.coursera.org/lecture/convolutional-neural-networks/transfer-learning-4THzO).\n",
        "\n",
        "Masih tentang membedakan kucing dan anjing, berikut adalah implementasi Pytorch dari ipynb [ini (exercise)](https://github.com/udacity/deep-learning-v2-pytorch/blob/master/intro-to-pytorch/Part%208%20-%20Transfer%20Learning%20(Exercises).ipynb) dan [ini (solution)](https://github.com/udacity/deep-learning-v2-pytorch/blob/master/intro-to-pytorch/Part%208%20-%20Transfer%20Learning%20(Solution).ipynb), yang melakukan transfer learning dari [ImageNet](http://www.image-net.org/).\n",
        "\n",
        "ImageNet adalah dataset lebih dari 1.000.000 gambar dengan 1000 kategori (di antaranya ada kategori kucing dan anjing).\n",
        "\n",
        "Kita akan menggunakan Densenet-121 dari model yang sudah disediakan oleh [torchvision](https://pytorch.org/docs/0.3.0/torchvision/models.html). Densenet implementasi dari [paper berikut](https://arxiv.org/pdf/1608.06993.pdf).\n",
        "\n",
        "![](https://i.ibb.co/5s9MxWv/image.png)\n",
        "\n",
        "```\n",
        "the number 121 as follows: \n",
        "\n",
        "5+(6+12+24+16)*2=121, \n",
        "\n",
        "where 5 is (conv,pooling)+3 transition layers+ classification layer. \n",
        "\n",
        "we multiple 2 because each dense block has 2 layers (1x1 conv and 3x3 conv)\n",
        "```\n",
        "\n",
        "\n",
        "Sehingga implementasi Pytorch untuk transfer learning sebagai berikut:\n",
        "\n",
        "```\n",
        "from torchvision import datasets, transforms, models\n",
        "model = models.densenet121(pretrained=True)\n",
        "\n",
        "```\n",
        "\n",
        "dari model tersebut ada dua bagian, `classifier` dan `parameters`. Untuk transfer learning ini kita hanya akan mengubah `classifier` tapi `parameters` tidak kita ubah. sehingga kodenya seperti ini.\n",
        "\n",
        "```\n",
        "\n",
        "# Freeze parameters so we don't backprop through them\n",
        "for param in model.parameters():\n",
        "    param.requires_grad = False\n",
        "    \n",
        "model.classifier = nn.Sequential(nn.Linear(1024, 256),\n",
        "                                 nn.ReLU(),\n",
        "                                 nn.Dropout(0.2),\n",
        "                                 nn.Linear(256, 2),\n",
        "                                 nn.LogSoftmax(dim=1))\n",
        "\n",
        "criterion = nn.NLLLoss()\n",
        "\n",
        "# Only train the classifier parameters, feature parameters are frozen\n",
        "optimizer = optim.Adam(model.classifier.parameters(), lr=0.003)\n",
        "\n",
        "model.to(device);\n",
        "```\n",
        "\n",
        "coba sendiri kodenya dari [ipython notebook berikut](https://github.com/udacity/deep-learning-v2-pytorch/blob/master/intro-to-pytorch/Part%208%20-%20Transfer%20Learning%20(Solution).ipynb), pastikan menggunakan GPU runtime, kemudian buktikan apakah hasilnya bisa mendapatkan akurasi yang lebih baik dari sebelumnya."
      ]
    },
    {
      "cell_type": "code",
      "metadata": {
        "id": "6TzD2ZnD5y49",
        "colab_type": "code",
        "colab": {}
      },
      "source": [
        ""
      ],
      "execution_count": 0,
      "outputs": []
    }
  ]
}